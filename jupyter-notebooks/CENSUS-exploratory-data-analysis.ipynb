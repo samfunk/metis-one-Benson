{
 "cells": [
  {
   "cell_type": "code",
   "execution_count": 1,
   "metadata": {
    "collapsed": true
   },
   "outputs": [],
   "source": [
    "import pandas as pd\n",
    "import numpy as np\n",
    "import pickle"
   ]
  },
  {
   "cell_type": "markdown",
   "metadata": {},
   "source": [
    "We are looking at three datasets from the 2011-2015 American Community Survey 5-Year Estimates:  \n",
    "\n",
    "[MEDIAN INCOME IN THE PAST 12 MONTHS (IN 2015 INFLATION-ADJUSTED DOLLARS)](https://factfinder.census.gov/faces/tableservices/jsf/pages/productview.xhtml?pid=ACS_15_5YR_S1903&prodType=table)   \n",
    "\n",
    "[FIELD OF BACHELOR'S DEGREE FOR FIRST MAJOR](https://factfinder.census.gov/faces/tableservices/jsf/pages/productview.xhtml?pid=ACS_15_5YR_S1502&prodType=table)  \n",
    "\n",
    "[AGE AND SEX](https://factfinder.census.gov/faces/tableservices/jsf/pages/productview.xhtml?pid=ACS_15_5YR_S0101&prodType=table)"
   ]
  },
  {
   "cell_type": "code",
   "execution_count": 14,
   "metadata": {
    "collapsed": true
   },
   "outputs": [],
   "source": [
    "directory_filepath = '/Users/Joe/Documents/Metis/Projects/metis-one-Benson/'\n",
    "age_sex_filepath = 'census-data-by-zip-code/ACS_15_5YR_S0101/ACS_15_5YR_S0101_with_ann.csv'\n",
    "major_filepath = 'census-data-by-zip-code/ACS_15_5YR_S1502/ACS_15_5YR_S1502_with_ann.csv'\n",
    "income_filepath = 'census-data-by-zip-code/ACS_15_5YR_S1903/ACS_15_5YR_S1903_with_ann.csv'"
   ]
  },
  {
   "cell_type": "code",
   "execution_count": 15,
   "metadata": {
    "collapsed": true
   },
   "outputs": [],
   "source": [
    "def census_data(filepath):\n",
    "    \"\"\"\n",
    "    This function reads in any ACS data and returns a dataframe with the index set to zip code.\n",
    "    ---\n",
    "    IN: csv file\n",
    "    OUT: pandas dataframe\n",
    "    \"\"\"\n",
    "    df = pd.read_csv(filepath, header=1)\n",
    "    \n",
    "    column_rename = {'Geography': 'Zip Code'}\n",
    "    df.rename(columns = column_rename, inplace = True)\n",
    "    df['Zip Code'] = df['Zip Code'].str.split().str[1]\n",
    "    df['Zip Code'] = df['Zip Code'].apply(pd.to_numeric)\n",
    "    df.set_index(df['Zip Code'], inplace = True)\n",
    "    \n",
    "    return df"
   ]
  },
  {
   "cell_type": "code",
   "execution_count": 16,
   "metadata": {
    "collapsed": true
   },
   "outputs": [],
   "source": [
    "def parse_age_sex(filepath):\n",
    "    df = census_data(filepath)\n",
    "    \n",
    "    columns_to_keep = ['Total; Estimate; Total population',\n",
    "                       'Female; Estimate; AGE - 20 to 24 years',\n",
    "                       'Female; Estimate; AGE - 25 to 29 years',\n",
    "                       'Female; Estimate; AGE - 30 to 34 years']\n",
    "    df = df[columns_to_keep]\n",
    "    \n",
    "    # Only keep values that aren't equal to zero, then convert from string to num\n",
    "    # (Before this, when the zip code was '0', the populations were '-')\n",
    "    df = df[df['Total; Estimate; Total population'] != 0]\n",
    "    df = df[df['Female; Estimate; AGE - 20 to 24 years'] != '-']\n",
    "    df = df.apply(pd.to_numeric)\n",
    "\n",
    "    df['Percent Female Aged 20 to 34'] = 100*(df['Female; Estimate; AGE - 20 to 24 years'] + \n",
    "                                              df['Female; Estimate; AGE - 25 to 29 years'] +\n",
    "                                              df['Female; Estimate; AGE - 30 to 34 years'])/df['Total; Estimate; Total population']\n",
    "    \n",
    "    df.drop(columns_to_keep, axis=1, inplace=True)\n",
    "    \n",
    "    return df"
   ]
  },
  {
   "cell_type": "code",
   "execution_count": 17,
   "metadata": {
    "collapsed": true
   },
   "outputs": [],
   "source": [
    "def parse_major(filepath):\n",
    "    df = census_data(filepath)\n",
    "    \n",
    "    column_to_keep = ['Percent Females; Estimate; Science and Engineering Related Fields']\n",
    "    df = df[column_to_keep]\n",
    "    df = df[df[column_to_keep] != '-'].apply(pd.to_numeric)\n",
    "    return df"
   ]
  },
  {
   "cell_type": "code",
   "execution_count": 18,
   "metadata": {
    "collapsed": true,
    "scrolled": false
   },
   "outputs": [],
   "source": [
    "def demographic():\n",
    "    sex = parse_age_sex(directory_filepath + age_sex_filepath)\n",
    "    major = parse_major(directory_filepath + major_filepath)\n",
    "    demographic = pd.merge(sex, major, how = 'inner', left_index=True, right_index=True)\n",
    "    \n",
    "    # Both of these are in percentages, so I must divide by 100 to get another percentage\n",
    "    demographic['Demographic'] = (demographic['Percent Female Aged 20 to 34']*\n",
    "                                  demographic['Percent Females; Estimate; Science and Engineering Related Fields']/100)\n",
    "    \n",
    "    return demographic"
   ]
  },
  {
   "cell_type": "code",
   "execution_count": 19,
   "metadata": {
    "collapsed": true
   },
   "outputs": [],
   "source": [
    "def parse_income(filepath):\n",
    "    df = census_data(filepath)\n",
    "    \n",
    "    column_to_keep = 'Median income (dollars); Estimate; Households'\n",
    "    df = df[[column_to_keep]]\n",
    "    df = df[df[column_to_keep] != '-']\n",
    "    df = df[df[column_to_keep] != '(X)']\n",
    "    df[column_to_keep] = df[column_to_keep].str.strip('+')\n",
    "    df[column_to_keep] = df[column_to_keep].str.replace(',','')\n",
    "    df = df.apply(pd.to_numeric)\n",
    "    \n",
    "    return df   "
   ]
  },
  {
   "cell_type": "code",
   "execution_count": 20,
   "metadata": {},
   "outputs": [],
   "source": [
    "census_dataframe = pd.merge(demographic(), parse_income(directory_filepath + income_filepath), how='inner', left_index=True, right_index=True)"
   ]
  },
  {
   "cell_type": "markdown",
   "metadata": {},
   "source": [
    "Income values of 250000 were originally $250,000+"
   ]
  },
  {
   "cell_type": "code",
   "execution_count": 21,
   "metadata": {},
   "outputs": [
    {
     "data": {
      "text/html": [
       "<div>\n",
       "<style>\n",
       "    .dataframe thead tr:only-child th {\n",
       "        text-align: right;\n",
       "    }\n",
       "\n",
       "    .dataframe thead th {\n",
       "        text-align: left;\n",
       "    }\n",
       "\n",
       "    .dataframe tbody tr th {\n",
       "        vertical-align: top;\n",
       "    }\n",
       "</style>\n",
       "<table border=\"1\" class=\"dataframe\">\n",
       "  <thead>\n",
       "    <tr style=\"text-align: right;\">\n",
       "      <th></th>\n",
       "      <th>Percent Female Aged 20 to 34</th>\n",
       "      <th>Percent Females; Estimate; Science and Engineering Related Fields</th>\n",
       "      <th>Demographic</th>\n",
       "      <th>Median income (dollars); Estimate; Households</th>\n",
       "    </tr>\n",
       "    <tr>\n",
       "      <th>Zip Code</th>\n",
       "      <th></th>\n",
       "      <th></th>\n",
       "      <th></th>\n",
       "      <th></th>\n",
       "    </tr>\n",
       "  </thead>\n",
       "  <tbody>\n",
       "    <tr>\n",
       "      <th>10282</th>\n",
       "      <td>0.528796</td>\n",
       "      <td>5.2</td>\n",
       "      <td>0.027497</td>\n",
       "      <td>250000</td>\n",
       "    </tr>\n",
       "    <tr>\n",
       "      <th>10007</th>\n",
       "      <td>0.431937</td>\n",
       "      <td>2.5</td>\n",
       "      <td>0.010798</td>\n",
       "      <td>250000</td>\n",
       "    </tr>\n",
       "    <tr>\n",
       "      <th>10577</th>\n",
       "      <td>0.456368</td>\n",
       "      <td>7.8</td>\n",
       "      <td>0.035597</td>\n",
       "      <td>216250</td>\n",
       "    </tr>\n",
       "    <tr>\n",
       "      <th>10514</th>\n",
       "      <td>0.064359</td>\n",
       "      <td>4.9</td>\n",
       "      <td>0.003154</td>\n",
       "      <td>212528</td>\n",
       "    </tr>\n",
       "    <tr>\n",
       "      <th>11962</th>\n",
       "      <td>0.409639</td>\n",
       "      <td>0.0</td>\n",
       "      <td>0.000000</td>\n",
       "      <td>209125</td>\n",
       "    </tr>\n",
       "  </tbody>\n",
       "</table>\n",
       "</div>"
      ],
      "text/plain": [
       "          Percent Female Aged 20 to 34  \\\n",
       "Zip Code                                 \n",
       "10282                         0.528796   \n",
       "10007                         0.431937   \n",
       "10577                         0.456368   \n",
       "10514                         0.064359   \n",
       "11962                         0.409639   \n",
       "\n",
       "          Percent Females; Estimate; Science and Engineering Related Fields  \\\n",
       "Zip Code                                                                      \n",
       "10282                                                   5.2                   \n",
       "10007                                                   2.5                   \n",
       "10577                                                   7.8                   \n",
       "10514                                                   4.9                   \n",
       "11962                                                   0.0                   \n",
       "\n",
       "          Demographic  Median income (dollars); Estimate; Households  \n",
       "Zip Code                                                              \n",
       "10282        0.027497                                         250000  \n",
       "10007        0.010798                                         250000  \n",
       "10577        0.035597                                         216250  \n",
       "10514        0.003154                                         212528  \n",
       "11962        0.000000                                         209125  "
      ]
     },
     "execution_count": 21,
     "metadata": {},
     "output_type": "execute_result"
    }
   ],
   "source": [
    "census_dataframe.sort_values('Median income (dollars); Estimate; Households', ascending=False).head()"
   ]
  },
  {
   "cell_type": "markdown",
   "metadata": {},
   "source": [
    "The census data is rather interesting. There are some zip codes that report over 100% of the population is women between 20 and 34. We have doubled checked the census data, and it reports higher female pop. values than total pop. values. We have decided to keep this data, because we don't really care about the true percentage, we just care about how a zip code ranks relative to other zip codes."
   ]
  },
  {
   "cell_type": "code",
   "execution_count": 22,
   "metadata": {},
   "outputs": [
    {
     "data": {
      "text/html": [
       "<div>\n",
       "<style>\n",
       "    .dataframe thead tr:only-child th {\n",
       "        text-align: right;\n",
       "    }\n",
       "\n",
       "    .dataframe thead th {\n",
       "        text-align: left;\n",
       "    }\n",
       "\n",
       "    .dataframe tbody tr th {\n",
       "        vertical-align: top;\n",
       "    }\n",
       "</style>\n",
       "<table border=\"1\" class=\"dataframe\">\n",
       "  <thead>\n",
       "    <tr style=\"text-align: right;\">\n",
       "      <th></th>\n",
       "      <th>Percent Female Aged 20 to 34</th>\n",
       "      <th>Percent Females; Estimate; Science and Engineering Related Fields</th>\n",
       "      <th>Demographic</th>\n",
       "      <th>Median income (dollars); Estimate; Households</th>\n",
       "    </tr>\n",
       "    <tr>\n",
       "      <th>Zip Code</th>\n",
       "      <th></th>\n",
       "      <th></th>\n",
       "      <th></th>\n",
       "      <th></th>\n",
       "    </tr>\n",
       "  </thead>\n",
       "  <tbody>\n",
       "    <tr>\n",
       "      <th>13623</th>\n",
       "      <td>146.976744</td>\n",
       "      <td>50.0</td>\n",
       "      <td>73.488372</td>\n",
       "      <td>78750</td>\n",
       "    </tr>\n",
       "    <tr>\n",
       "      <th>13124</th>\n",
       "      <td>26.410256</td>\n",
       "      <td>100.0</td>\n",
       "      <td>26.410256</td>\n",
       "      <td>46094</td>\n",
       "    </tr>\n",
       "    <tr>\n",
       "      <th>14511</th>\n",
       "      <td>12.905983</td>\n",
       "      <td>100.0</td>\n",
       "      <td>12.905983</td>\n",
       "      <td>45769</td>\n",
       "    </tr>\n",
       "    <tr>\n",
       "      <th>14130</th>\n",
       "      <td>11.511628</td>\n",
       "      <td>100.0</td>\n",
       "      <td>11.511628</td>\n",
       "      <td>47679</td>\n",
       "    </tr>\n",
       "    <tr>\n",
       "      <th>12416</th>\n",
       "      <td>22.519685</td>\n",
       "      <td>45.5</td>\n",
       "      <td>10.246457</td>\n",
       "      <td>25050</td>\n",
       "    </tr>\n",
       "  </tbody>\n",
       "</table>\n",
       "</div>"
      ],
      "text/plain": [
       "          Percent Female Aged 20 to 34  \\\n",
       "Zip Code                                 \n",
       "13623                       146.976744   \n",
       "13124                        26.410256   \n",
       "14511                        12.905983   \n",
       "14130                        11.511628   \n",
       "12416                        22.519685   \n",
       "\n",
       "          Percent Females; Estimate; Science and Engineering Related Fields  \\\n",
       "Zip Code                                                                      \n",
       "13623                                                  50.0                   \n",
       "13124                                                 100.0                   \n",
       "14511                                                 100.0                   \n",
       "14130                                                 100.0                   \n",
       "12416                                                  45.5                   \n",
       "\n",
       "          Demographic  Median income (dollars); Estimate; Households  \n",
       "Zip Code                                                              \n",
       "13623       73.488372                                          78750  \n",
       "13124       26.410256                                          46094  \n",
       "14511       12.905983                                          45769  \n",
       "14130       11.511628                                          47679  \n",
       "12416       10.246457                                          25050  "
      ]
     },
     "execution_count": 22,
     "metadata": {},
     "output_type": "execute_result"
    }
   ],
   "source": [
    "census_dataframe.sort_values('Demographic', ascending=False).head()"
   ]
  },
  {
   "cell_type": "markdown",
   "metadata": {},
   "source": [
    "Move zip codes from index to column"
   ]
  },
  {
   "cell_type": "code",
   "execution_count": 23,
   "metadata": {
    "collapsed": true
   },
   "outputs": [],
   "source": [
    "census_dataframe['zip code'] = census_dataframe.index"
   ]
  },
  {
   "cell_type": "markdown",
   "metadata": {},
   "source": [
    "Save this data"
   ]
  },
  {
   "cell_type": "code",
   "execution_count": 24,
   "metadata": {
    "collapsed": true
   },
   "outputs": [],
   "source": [
    "def save_file(df, filename):\n",
    "    filepath = '/Users/Joe/Documents/Metis/Projects/metis-one-Benson/pickled-dataframes/'\n",
    "    with open(filepath + filename, 'wb') as picklefile:\n",
    "        pickle.dump(df, picklefile)"
   ]
  },
  {
   "cell_type": "code",
   "execution_count": 25,
   "metadata": {
    "collapsed": true
   },
   "outputs": [],
   "source": [
    "save_file(census_dataframe, 'census_pkl.pkl')"
   ]
  }
 ],
 "metadata": {
  "kernelspec": {
   "display_name": "Python [conda root]",
   "language": "python",
   "name": "conda-root-py"
  },
  "language_info": {
   "codemirror_mode": {
    "name": "ipython",
    "version": 3
   },
   "file_extension": ".py",
   "mimetype": "text/x-python",
   "name": "python",
   "nbconvert_exporter": "python",
   "pygments_lexer": "ipython3",
   "version": "3.6.1"
  }
 },
 "nbformat": 4,
 "nbformat_minor": 2
}
