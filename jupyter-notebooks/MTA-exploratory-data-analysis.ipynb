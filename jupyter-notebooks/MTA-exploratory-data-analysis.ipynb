{
 "cells": [
  {
   "cell_type": "markdown",
   "metadata": {},
   "source": [
    "### Libraries and Settings"
   ]
  },
  {
   "cell_type": "code",
   "execution_count": 1,
   "metadata": {
    "collapsed": true
   },
   "outputs": [],
   "source": [
    "import pandas as pd\n",
    "import datetime\n",
    "import time\n",
    "import numpy as np\n",
    "import matplotlib.pyplot as plt\n",
    "import seaborn as sns\n",
    "import pickle\n",
    "\n",
    "%matplotlib inline"
   ]
  },
  {
   "cell_type": "code",
   "execution_count": 2,
   "metadata": {
    "collapsed": true
   },
   "outputs": [],
   "source": [
    "# various options in pandas\n",
    "pd.set_option('display.max_columns', None)\n",
    "pd.set_option('display.max_rows', 100)\n",
    "pd.set_option('display.precision', 3)"
   ]
  },
  {
   "cell_type": "markdown",
   "metadata": {},
   "source": [
    "### Import Data"
   ]
  },
  {
   "cell_type": "code",
   "execution_count": 3,
   "metadata": {
    "collapsed": true
   },
   "outputs": [],
   "source": [
    "def create_dataframe(links_dict):\n",
    "    \"\"\"\n",
    "    This function reads in each url passed to it and concatenates them into a pandas dataframe.\n",
    "    ---\n",
    "    IN: links_dict (dict) where the keys are user-defined and the values are urls to csv files.\n",
    "    OUT: Pandas DataFrame\n",
    "    \"\"\"\n",
    "    frames = []\n",
    "    for week, link in links_dict.items():\n",
    "        frames.append(pd.read_csv(link))\n",
    "    return pd.concat(frames)"
   ]
  },
  {
   "cell_type": "code",
   "execution_count": 4,
   "metadata": {
    "collapsed": true
   },
   "outputs": [],
   "source": [
    "links_dict = {'05-06-2017': 'http://web.mta.info/developers/data/nyct/turnstile/turnstile_170506.txt',\n",
    "              '05-13-2017': 'http://web.mta.info/developers/data/nyct/turnstile/turnstile_170513.txt',\n",
    "              '05-20-2017': 'http://web.mta.info/developers/data/nyct/turnstile/turnstile_170520.txt',\n",
    "              '05-27-2017': 'http://web.mta.info/developers/data/nyct/turnstile/turnstile_170527.txt',\n",
    "              '06-03-2017': 'http://web.mta.info/developers/data/nyct/turnstile/turnstile_170603.txt',\n",
    "              '06-10-2017': 'http://web.mta.info/developers/data/nyct/turnstile/turnstile_170610.txt',\n",
    "              '06-17-2017': 'http://web.mta.info/developers/data/nyct/turnstile/turnstile_170617.txt',\n",
    "              '06-24-2017': 'http://web.mta.info/developers/data/nyct/turnstile/turnstile_170624.txt'}"
   ]
  },
  {
   "cell_type": "code",
   "execution_count": 5,
   "metadata": {
    "collapsed": true
   },
   "outputs": [],
   "source": [
    "df = create_dataframe(links_dict)"
   ]
  },
  {
   "cell_type": "markdown",
   "metadata": {},
   "source": [
    "### Clean Data"
   ]
  },
  {
   "cell_type": "code",
   "execution_count": 6,
   "metadata": {
    "collapsed": true
   },
   "outputs": [],
   "source": [
    "def clean_column_names(df):\n",
    "    \"\"\"\n",
    "    This function removes whitespace from column names and converts each name to lowercase.\n",
    "    It also changes some column names to preferred values.\n",
    "    ---\n",
    "    IN: Pandas DataFrame\n",
    "    OUT: No output. Modifies dataframe in place.\n",
    "    \"\"\"\n",
    "    \n",
    "    for col in df.columns:\n",
    "        df.rename(columns = {col: col.strip().lower()}, inplace = True)\n",
    "        \n",
    "    df.rename(columns = {'entries': 'cumm. entries', 'exits': 'cumm. exits'}, inplace = True)    "
   ]
  },
  {
   "cell_type": "code",
   "execution_count": 7,
   "metadata": {
    "collapsed": true
   },
   "outputs": [],
   "source": [
    "def convert_to_datetime(df):\n",
    "    \"\"\"\n",
    "    Converts the dates and timestamps provided in the MTA data into datatimes.\n",
    "    ---\n",
    "    IN: Pandas DataFrame\n",
    "    OUT: No output. Modifies dataframe in place.\n",
    "    \"\"\"\n",
    "    # Combine date and time\n",
    "    df['datetime'] = df['date'] + ' ' + df['time']\n",
    "    df['datetime'] = pd.to_datetime(df['datetime'], format = '%m/%d/%Y %H:%M:%S')\n",
    "    df['day'] = df['datetime'].dt.dayofweek\n",
    "    \n",
    "    # Convert time from string to datetime time (This produces a warning that we ignore)\n",
    "    df['time'] = pd.to_datetime(df['time'], format = '%H:%M:%S').dt.time"
   ]
  },
  {
   "cell_type": "code",
   "execution_count": 8,
   "metadata": {
    "collapsed": true
   },
   "outputs": [],
   "source": [
    "clean_column_names(df)\n",
    "convert_to_datetime(df)"
   ]
  },
  {
   "cell_type": "markdown",
   "metadata": {},
   "source": [
    "### Calculate Marginal Entries and Exits"
   ]
  },
  {
   "cell_type": "code",
   "execution_count": 9,
   "metadata": {
    "collapsed": true
   },
   "outputs": [],
   "source": [
    "def calculate_entries_and_exits(df, groupby_columns):\n",
    "    \"\"\"\n",
    "    Groups the specified DataFrame (df) by the list of columns names provided (groupby_columns).\n",
    "    Then calculates entry and exit values from \n",
    "    ---\n",
    "    IN: Pandas DataFrame, list of column names to groupby\n",
    "    OUT: No output. Modifies dataframe in place.\n",
    "    \"\"\"\n",
    "    \n",
    "    # Calculate marginal entries and exits using abs() because some turnstiles count backwards\n",
    "    df['entries'] = df.groupby(groupby_columns)['cumm. entries'].transform(lambda x: abs(x - x.shift(1)))\n",
    "    df['exits']   = df.groupby(groupby_columns)['cumm. exits'].transform(lambda x: abs(x - x.shift(1)))\n",
    "    df['people'] = df['entries'] + df['exits']"
   ]
  },
  {
   "cell_type": "code",
   "execution_count": 10,
   "metadata": {
    "collapsed": true
   },
   "outputs": [],
   "source": [
    "def format_times(df, groupby_columns):\n",
    "    \"\"\"\n",
    "    Changes time values from strings to datetimes. Calculates entries and exits per hour.\n",
    "    ---\n",
    "    IN: Pandas DataFrame, list of column names to groupby\n",
    "    OUT: No output. Modifies dataframe in place.\n",
    "    \"\"\"\n",
    "    # Calculate entries and exits per hour\n",
    "    df['timedelta'] = df.groupby(groupby_columns)['datetime'].transform(lambda x: x - x.shift(1))    \n",
    "    df['timedelta'] = df['timedelta'].transform(lambda x: x.seconds//3600)\n",
    "    \n",
    "    df['entries per hour'] = df['entries']/df['timedelta']\n",
    "    df['exits per hour'] = df['exits']/df['timedelta']\n",
    "    df['people per hour'] = df['entries per hour'] + df['exits per hour']"
   ]
  },
  {
   "cell_type": "code",
   "execution_count": 11,
   "metadata": {
    "collapsed": true
   },
   "outputs": [],
   "source": [
    "groupby_columns = ['station', 'linename', 'unit', 'c/a', 'scp']\n",
    "calculate_entries_and_exits(df, groupby_columns)\n",
    "format_times(df, groupby_columns)"
   ]
  },
  {
   "cell_type": "markdown",
   "metadata": {},
   "source": [
    "### Save and Load pickled data"
   ]
  },
  {
   "cell_type": "code",
   "execution_count": 12,
   "metadata": {
    "collapsed": true
   },
   "outputs": [],
   "source": [
    "filepath = '/Users/Joe/Documents/Metis/Projects/metis-one-Benson/pickled-dataframes/'\n",
    "filename = 'cleaned_df.pkl'"
   ]
  },
  {
   "cell_type": "markdown",
   "metadata": {},
   "source": [
    "Save"
   ]
  },
  {
   "cell_type": "code",
   "execution_count": 13,
   "metadata": {
    "collapsed": true
   },
   "outputs": [],
   "source": [
    "with open(filepath + filename, 'wb') as picklefile:\n",
    "    pickle.dump(df, picklefile)"
   ]
  },
  {
   "cell_type": "markdown",
   "metadata": {},
   "source": [
    "Open"
   ]
  },
  {
   "cell_type": "code",
   "execution_count": 14,
   "metadata": {
    "collapsed": true
   },
   "outputs": [],
   "source": [
    "with open(filepath + filename, 'rb') as picklefile: \n",
    "    df = pickle.load(picklefile)"
   ]
  },
  {
   "cell_type": "markdown",
   "metadata": {},
   "source": [
    "### Station Names\n",
    "Cleaning Station names to match zip code data"
   ]
  },
  {
   "cell_type": "code",
   "execution_count": 15,
   "metadata": {
    "collapsed": true
   },
   "outputs": [],
   "source": [
    "df['station'] = df['station'].str.replace('/', '-')\n",
    "df['station'] = df['station'].str.replace('TH', '')\n",
    "df['station'] = df['station'].str.replace('STREET', 'ST');\n",
    "#df['station'] = df['station'].str.replace('EAST', 'E')\n",
    "#df['station'] = df['station'].str.replace('WEST', 'W');"
   ]
  },
  {
   "cell_type": "code",
   "execution_count": 16,
   "metadata": {
    "collapsed": true
   },
   "outputs": [],
   "source": [
    "df['station linename'] = df['station'] + ' ' + df['linename']"
   ]
  },
  {
   "cell_type": "code",
   "execution_count": 17,
   "metadata": {
    "collapsed": true
   },
   "outputs": [],
   "source": [
    "station_rename = {'Wrong': 'Right',\n",
    "                  '14 ST FLM123': '14 ST 123FLM',\n",
    "                  '14 ST-UNION SQ 456LNQRW': '14 ST-UNION SQ LNQR456W',\n",
    "                  '168 ST AC1': '168 ST 1AC',\n",
    "                  '42 ST-PORT AU ACENGRS1237W': '42 ST-PORT AU ACE',\n",
    "                  '42 ST-PORT AU ACENQRS1237W': '42 ST-PORT AU ACE',\n",
    "                  '4AV-9 ST DFGMNR': '4 AV-9 ST DFGMNR',\n",
    "                  '59 ST COLUMBUS ABCD1': '59 ST COLUMBUS 1ABCD',\n",
    "                  '59 ST NQR456W': '59 ST 456NQRW',\n",
    "                  '59 ST NRW': '59 ST 456NQRW',\n",
    "                  'ATL AV-BARCLAY BDNQR2345': 'ATL AV-BARCLAY 2345BDNQR',\n",
    "                  'BOROUGH HALL R2345': 'BOROUGH HALL 2345R',\n",
    "                  'COURT SQ EMG': 'COURT SQ-23 ST EMG',\n",
    "                  'FULTON ST ACJZ2345': 'FULTON ST 2345ACJZ',\n",
    "                  'TIMES SQ-42 ST 1237ACENQRSW': 'TIMES SQ-42 ST 1237ACENQRS',\n",
    "                  'TIMES SQ-42 ST ACENQRS1237W': 'TIMES SQ-42 ST 1237ACENQRS',\n",
    "                  '34 ST-PENN STA 123ACE': '34 ST-PENN STA 123'}"
   ]
  },
  {
   "cell_type": "code",
   "execution_count": 18,
   "metadata": {
    "collapsed": true,
    "scrolled": true
   },
   "outputs": [],
   "source": [
    "#for station in sorted(df['station linename'].unique()):\n",
    "    #print(station)"
   ]
  },
  {
   "cell_type": "code",
   "execution_count": 19,
   "metadata": {
    "collapsed": true
   },
   "outputs": [],
   "source": [
    "for wrong, right in station_rename.items():\n",
    "    df.replace(wrong, right, inplace=True)"
   ]
  },
  {
   "cell_type": "markdown",
   "metadata": {},
   "source": [
    "### Finding Errors in the data\n",
    "Rows with large timedeltsas could be a potentials source of error. Fortunately, they are fringe."
   ]
  },
  {
   "cell_type": "code",
   "execution_count": 20,
   "metadata": {},
   "outputs": [
    {
     "data": {
      "text/plain": [
       "4.0     1549140\n",
       "0.0        7063\n",
       "3.0        3798\n",
       "1.0        3135\n",
       "2.0        3100\n",
       "8.0        1931\n",
       "12.0        149\n",
       "16.0         73\n",
       "20.0         44\n",
       "5.0          26\n",
       "19.0         12\n",
       "6.0          12\n",
       "10.0         11\n",
       "21.0         11\n",
       "17.0         10\n",
       "22.0         10\n",
       "18.0          8\n",
       "7.0           8\n",
       "15.0          6\n",
       "14.0          6\n",
       "13.0          6\n",
       "11.0          6\n",
       "9.0           5\n",
       "23.0          2\n",
       "Name: timedelta, dtype: int64"
      ]
     },
     "execution_count": 20,
     "metadata": {},
     "output_type": "execute_result"
    }
   ],
   "source": [
    "df['timedelta'].value_counts()"
   ]
  },
  {
   "cell_type": "code",
   "execution_count": 21,
   "metadata": {
    "collapsed": true
   },
   "outputs": [],
   "source": [
    "# When the timedelta is near zero, calculating people per hour yields infinity.\n",
    "df = df.loc[(df['timedelta'] > 0) & (df['timedelta'] <= 4)]"
   ]
  },
  {
   "cell_type": "markdown",
   "metadata": {},
   "source": [
    "Rollover points create artificially high values. Singe entry or exit values above 3000 imply a rollover."
   ]
  },
  {
   "cell_type": "code",
   "execution_count": 22,
   "metadata": {
    "collapsed": true
   },
   "outputs": [],
   "source": [
    "upper_limit = 3000\n",
    "df = df[(df['entries'] <= upper_limit) & (df['exits'] <= upper_limit)]"
   ]
  },
  {
   "cell_type": "markdown",
   "metadata": {},
   "source": [
    "### Busiest Stations"
   ]
  },
  {
   "cell_type": "markdown",
   "metadata": {},
   "source": [
    "Stations with the most total traffic. These match well enough to the [busiest stations](http://web.mta.info/nyct/facts/ffsubway.htm) listed by the MTA."
   ]
  },
  {
   "cell_type": "code",
   "execution_count": 23,
   "metadata": {
    "scrolled": false
   },
   "outputs": [
    {
     "data": {
      "text/html": [
       "<div>\n",
       "<style>\n",
       "    .dataframe thead tr:only-child th {\n",
       "        text-align: right;\n",
       "    }\n",
       "\n",
       "    .dataframe thead th {\n",
       "        text-align: left;\n",
       "    }\n",
       "\n",
       "    .dataframe tbody tr th {\n",
       "        vertical-align: top;\n",
       "    }\n",
       "</style>\n",
       "<table border=\"1\" class=\"dataframe\">\n",
       "  <thead>\n",
       "    <tr style=\"text-align: right;\">\n",
       "      <th></th>\n",
       "      <th>cumm. entries</th>\n",
       "      <th>cumm. exits</th>\n",
       "      <th>day</th>\n",
       "      <th>entries</th>\n",
       "      <th>exits</th>\n",
       "      <th>people</th>\n",
       "      <th>timedelta</th>\n",
       "      <th>entries per hour</th>\n",
       "      <th>exits per hour</th>\n",
       "      <th>people per hour</th>\n",
       "    </tr>\n",
       "    <tr>\n",
       "      <th>station linename</th>\n",
       "      <th></th>\n",
       "      <th></th>\n",
       "      <th></th>\n",
       "      <th></th>\n",
       "      <th></th>\n",
       "      <th></th>\n",
       "      <th></th>\n",
       "      <th></th>\n",
       "      <th></th>\n",
       "      <th></th>\n",
       "    </tr>\n",
       "  </thead>\n",
       "  <tbody>\n",
       "    <tr>\n",
       "      <th>GRD CNTRL-42 ST 4567S</th>\n",
       "      <td>1040462010014</td>\n",
       "      <td>701465465854</td>\n",
       "      <td>61301</td>\n",
       "      <td>6.601e+06</td>\n",
       "      <td>5.913e+06</td>\n",
       "      <td>1.251e+07</td>\n",
       "      <td>81080.0</td>\n",
       "      <td>1.689e+06</td>\n",
       "      <td>1.539e+06</td>\n",
       "      <td>3.228e+06</td>\n",
       "    </tr>\n",
       "    <tr>\n",
       "      <th>34 ST-HERALD SQ BDFMNQRW</th>\n",
       "      <td>1583255722669</td>\n",
       "      <td>1888711353155</td>\n",
       "      <td>54028</td>\n",
       "      <td>6.246e+06</td>\n",
       "      <td>5.440e+06</td>\n",
       "      <td>1.169e+07</td>\n",
       "      <td>71957.0</td>\n",
       "      <td>1.570e+06</td>\n",
       "      <td>1.375e+06</td>\n",
       "      <td>2.945e+06</td>\n",
       "    </tr>\n",
       "    <tr>\n",
       "      <th>14 ST-UNION SQ LNQR456W</th>\n",
       "      <td>366566762741</td>\n",
       "      <td>103237216592</td>\n",
       "      <td>37918</td>\n",
       "      <td>5.332e+06</td>\n",
       "      <td>4.543e+06</td>\n",
       "      <td>9.875e+06</td>\n",
       "      <td>50618.0</td>\n",
       "      <td>1.334e+06</td>\n",
       "      <td>1.137e+06</td>\n",
       "      <td>2.471e+06</td>\n",
       "    </tr>\n",
       "    <tr>\n",
       "      <th>TIMES SQ-42 ST 1237ACENQRS</th>\n",
       "      <td>1951053403581</td>\n",
       "      <td>1514336326147</td>\n",
       "      <td>50146</td>\n",
       "      <td>5.119e+06</td>\n",
       "      <td>4.636e+06</td>\n",
       "      <td>9.755e+06</td>\n",
       "      <td>66756.0</td>\n",
       "      <td>1.289e+06</td>\n",
       "      <td>1.172e+06</td>\n",
       "      <td>2.461e+06</td>\n",
       "    </tr>\n",
       "    <tr>\n",
       "      <th>42 ST-PORT AU ACE</th>\n",
       "      <td>2510134698932</td>\n",
       "      <td>2092403685843</td>\n",
       "      <td>50790</td>\n",
       "      <td>5.105e+06</td>\n",
       "      <td>3.571e+06</td>\n",
       "      <td>8.676e+06</td>\n",
       "      <td>67449.0</td>\n",
       "      <td>1.306e+06</td>\n",
       "      <td>9.039e+05</td>\n",
       "      <td>2.210e+06</td>\n",
       "    </tr>\n",
       "    <tr>\n",
       "      <th>34 ST-PENN STA 123</th>\n",
       "      <td>786688416831</td>\n",
       "      <td>455312805428</td>\n",
       "      <td>42035</td>\n",
       "      <td>4.210e+06</td>\n",
       "      <td>3.419e+06</td>\n",
       "      <td>7.629e+06</td>\n",
       "      <td>55924.0</td>\n",
       "      <td>1.079e+06</td>\n",
       "      <td>8.643e+05</td>\n",
       "      <td>1.943e+06</td>\n",
       "    </tr>\n",
       "    <tr>\n",
       "      <th>FULTON ST 2345ACJZ</th>\n",
       "      <td>1376155564132</td>\n",
       "      <td>1418435174044</td>\n",
       "      <td>89187</td>\n",
       "      <td>4.159e+06</td>\n",
       "      <td>3.376e+06</td>\n",
       "      <td>7.535e+06</td>\n",
       "      <td>118909.0</td>\n",
       "      <td>1.045e+06</td>\n",
       "      <td>8.516e+05</td>\n",
       "      <td>1.897e+06</td>\n",
       "    </tr>\n",
       "    <tr>\n",
       "      <th>34 ST-PENN STA ACE</th>\n",
       "      <td>159127300962</td>\n",
       "      <td>81778671372</td>\n",
       "      <td>55880</td>\n",
       "      <td>3.867e+06</td>\n",
       "      <td>3.379e+06</td>\n",
       "      <td>7.246e+06</td>\n",
       "      <td>74405.0</td>\n",
       "      <td>9.705e+05</td>\n",
       "      <td>8.472e+05</td>\n",
       "      <td>1.818e+06</td>\n",
       "    </tr>\n",
       "    <tr>\n",
       "      <th>59 ST 456NQRW</th>\n",
       "      <td>1378735573732</td>\n",
       "      <td>807855135819</td>\n",
       "      <td>53213</td>\n",
       "      <td>3.856e+06</td>\n",
       "      <td>2.895e+06</td>\n",
       "      <td>6.751e+06</td>\n",
       "      <td>70670.0</td>\n",
       "      <td>9.827e+05</td>\n",
       "      <td>7.329e+05</td>\n",
       "      <td>1.716e+06</td>\n",
       "    </tr>\n",
       "    <tr>\n",
       "      <th>59 ST COLUMBUS 1ABCD</th>\n",
       "      <td>1124508082210</td>\n",
       "      <td>985368123493</td>\n",
       "      <td>40721</td>\n",
       "      <td>3.606e+06</td>\n",
       "      <td>2.816e+06</td>\n",
       "      <td>6.422e+06</td>\n",
       "      <td>54290.0</td>\n",
       "      <td>9.094e+05</td>\n",
       "      <td>7.112e+05</td>\n",
       "      <td>1.621e+06</td>\n",
       "    </tr>\n",
       "  </tbody>\n",
       "</table>\n",
       "</div>"
      ],
      "text/plain": [
       "                            cumm. entries    cumm. exits    day    entries  \\\n",
       "station linename                                                             \n",
       "GRD CNTRL-42 ST 4567S       1040462010014   701465465854  61301  6.601e+06   \n",
       "34 ST-HERALD SQ BDFMNQRW    1583255722669  1888711353155  54028  6.246e+06   \n",
       "14 ST-UNION SQ LNQR456W      366566762741   103237216592  37918  5.332e+06   \n",
       "TIMES SQ-42 ST 1237ACENQRS  1951053403581  1514336326147  50146  5.119e+06   \n",
       "42 ST-PORT AU ACE           2510134698932  2092403685843  50790  5.105e+06   \n",
       "34 ST-PENN STA 123           786688416831   455312805428  42035  4.210e+06   \n",
       "FULTON ST 2345ACJZ          1376155564132  1418435174044  89187  4.159e+06   \n",
       "34 ST-PENN STA ACE           159127300962    81778671372  55880  3.867e+06   \n",
       "59 ST 456NQRW               1378735573732   807855135819  53213  3.856e+06   \n",
       "59 ST COLUMBUS 1ABCD        1124508082210   985368123493  40721  3.606e+06   \n",
       "\n",
       "                                exits     people  timedelta  entries per hour  \\\n",
       "station linename                                                                \n",
       "GRD CNTRL-42 ST 4567S       5.913e+06  1.251e+07    81080.0         1.689e+06   \n",
       "34 ST-HERALD SQ BDFMNQRW    5.440e+06  1.169e+07    71957.0         1.570e+06   \n",
       "14 ST-UNION SQ LNQR456W     4.543e+06  9.875e+06    50618.0         1.334e+06   \n",
       "TIMES SQ-42 ST 1237ACENQRS  4.636e+06  9.755e+06    66756.0         1.289e+06   \n",
       "42 ST-PORT AU ACE           3.571e+06  8.676e+06    67449.0         1.306e+06   \n",
       "34 ST-PENN STA 123          3.419e+06  7.629e+06    55924.0         1.079e+06   \n",
       "FULTON ST 2345ACJZ          3.376e+06  7.535e+06   118909.0         1.045e+06   \n",
       "34 ST-PENN STA ACE          3.379e+06  7.246e+06    74405.0         9.705e+05   \n",
       "59 ST 456NQRW               2.895e+06  6.751e+06    70670.0         9.827e+05   \n",
       "59 ST COLUMBUS 1ABCD        2.816e+06  6.422e+06    54290.0         9.094e+05   \n",
       "\n",
       "                            exits per hour  people per hour  \n",
       "station linename                                             \n",
       "GRD CNTRL-42 ST 4567S            1.539e+06        3.228e+06  \n",
       "34 ST-HERALD SQ BDFMNQRW         1.375e+06        2.945e+06  \n",
       "14 ST-UNION SQ LNQR456W          1.137e+06        2.471e+06  \n",
       "TIMES SQ-42 ST 1237ACENQRS       1.172e+06        2.461e+06  \n",
       "42 ST-PORT AU ACE                9.039e+05        2.210e+06  \n",
       "34 ST-PENN STA 123               8.643e+05        1.943e+06  \n",
       "FULTON ST 2345ACJZ               8.516e+05        1.897e+06  \n",
       "34 ST-PENN STA ACE               8.472e+05        1.818e+06  \n",
       "59 ST 456NQRW                    7.329e+05        1.716e+06  \n",
       "59 ST COLUMBUS 1ABCD             7.112e+05        1.621e+06  "
      ]
     },
     "execution_count": 23,
     "metadata": {},
     "output_type": "execute_result"
    }
   ],
   "source": [
    "df.groupby(['station linename']).sum().sort_values('entries', ascending = False).head(10)"
   ]
  },
  {
   "cell_type": "markdown",
   "metadata": {},
   "source": [
    "#### Busiest Morning and Evening Rushhour  \n",
    "First, filter by day."
   ]
  },
  {
   "cell_type": "code",
   "execution_count": 24,
   "metadata": {
    "collapsed": true
   },
   "outputs": [],
   "source": [
    "weekday = df[df['day'] < 5]\n",
    "weekend = df[df['day'] >= 5]"
   ]
  },
  {
   "cell_type": "markdown",
   "metadata": {},
   "source": [
    "Then, filter by time of day"
   ]
  },
  {
   "cell_type": "code",
   "execution_count": 25,
   "metadata": {
    "collapsed": true
   },
   "outputs": [],
   "source": [
    "morning_rush = weekday.loc[(weekday['time'] > datetime.time(6,0)) & (weekday['time'] <= datetime.time(12,0))]\n",
    "evening_rush = weekday.loc[(weekday['time'] > datetime.time(16,0)) & (weekday['time'] <= datetime.time(20,0))]\n",
    "midday = weekday.loc[(weekday['time'] > datetime.time(12,0)) & (weekday['time'] <= datetime.time(16,0))]"
   ]
  },
  {
   "cell_type": "markdown",
   "metadata": {},
   "source": [
    "Stations with fewer turnstiles will have higher average entries and exits in this dataset. For example, York St. is a low traffic station and may only have a couple of turnstiles. Grand Central is super busy, so the MTA installs many turnstiles. Each turnstile at Grand Central may see on average less people even while all the turnstiles as Grand Central see more total people."
   ]
  },
  {
   "cell_type": "code",
   "execution_count": 26,
   "metadata": {},
   "outputs": [
    {
     "data": {
      "text/html": [
       "<div>\n",
       "<style>\n",
       "    .dataframe thead tr:only-child th {\n",
       "        text-align: right;\n",
       "    }\n",
       "\n",
       "    .dataframe thead th {\n",
       "        text-align: left;\n",
       "    }\n",
       "\n",
       "    .dataframe tbody tr th {\n",
       "        vertical-align: top;\n",
       "    }\n",
       "</style>\n",
       "<table border=\"1\" class=\"dataframe\">\n",
       "  <thead>\n",
       "    <tr style=\"text-align: right;\">\n",
       "      <th></th>\n",
       "      <th>cumm. entries</th>\n",
       "      <th>cumm. exits</th>\n",
       "      <th>day</th>\n",
       "      <th>entries</th>\n",
       "      <th>exits</th>\n",
       "      <th>people</th>\n",
       "      <th>timedelta</th>\n",
       "      <th>entries per hour</th>\n",
       "      <th>exits per hour</th>\n",
       "      <th>people per hour</th>\n",
       "    </tr>\n",
       "    <tr>\n",
       "      <th>station linename</th>\n",
       "      <th></th>\n",
       "      <th></th>\n",
       "      <th></th>\n",
       "      <th></th>\n",
       "      <th></th>\n",
       "      <th></th>\n",
       "      <th></th>\n",
       "      <th></th>\n",
       "      <th></th>\n",
       "      <th></th>\n",
       "    </tr>\n",
       "  </thead>\n",
       "  <tbody>\n",
       "    <tr>\n",
       "      <th>YORK ST F</th>\n",
       "      <td>1.193e+07</td>\n",
       "      <td>1.047e+07</td>\n",
       "      <td>3.002</td>\n",
       "      <td>532.845</td>\n",
       "      <td>255.333</td>\n",
       "      <td>788.178</td>\n",
       "      <td>3.994</td>\n",
       "      <td>133.417</td>\n",
       "      <td>63.987</td>\n",
       "      <td>197.403</td>\n",
       "    </tr>\n",
       "    <tr>\n",
       "      <th>MYRTLE AV JMZ</th>\n",
       "      <td>8.536e+06</td>\n",
       "      <td>7.414e+06</td>\n",
       "      <td>2.976</td>\n",
       "      <td>478.339</td>\n",
       "      <td>290.092</td>\n",
       "      <td>768.431</td>\n",
       "      <td>3.964</td>\n",
       "      <td>122.069</td>\n",
       "      <td>73.251</td>\n",
       "      <td>195.319</td>\n",
       "    </tr>\n",
       "    <tr>\n",
       "      <th>GRAND ST BD</th>\n",
       "      <td>3.759e+07</td>\n",
       "      <td>1.832e+08</td>\n",
       "      <td>2.969</td>\n",
       "      <td>462.137</td>\n",
       "      <td>346.660</td>\n",
       "      <td>808.796</td>\n",
       "      <td>3.985</td>\n",
       "      <td>116.203</td>\n",
       "      <td>87.574</td>\n",
       "      <td>203.777</td>\n",
       "    </tr>\n",
       "    <tr>\n",
       "      <th>96 ST 6</th>\n",
       "      <td>1.432e+07</td>\n",
       "      <td>5.002e+06</td>\n",
       "      <td>2.985</td>\n",
       "      <td>433.603</td>\n",
       "      <td>124.921</td>\n",
       "      <td>558.524</td>\n",
       "      <td>3.964</td>\n",
       "      <td>110.139</td>\n",
       "      <td>31.867</td>\n",
       "      <td>142.006</td>\n",
       "    </tr>\n",
       "    <tr>\n",
       "      <th>14 ST-UNION SQ LNQR456W</th>\n",
       "      <td>2.895e+07</td>\n",
       "      <td>8.153e+06</td>\n",
       "      <td>2.994</td>\n",
       "      <td>421.107</td>\n",
       "      <td>358.734</td>\n",
       "      <td>779.841</td>\n",
       "      <td>3.997</td>\n",
       "      <td>105.359</td>\n",
       "      <td>89.815</td>\n",
       "      <td>195.174</td>\n",
       "    </tr>\n",
       "  </tbody>\n",
       "</table>\n",
       "</div>"
      ],
      "text/plain": [
       "                         cumm. entries  cumm. exits    day  entries    exits  \\\n",
       "station linename                                                               \n",
       "YORK ST F                    1.193e+07    1.047e+07  3.002  532.845  255.333   \n",
       "MYRTLE AV JMZ                8.536e+06    7.414e+06  2.976  478.339  290.092   \n",
       "GRAND ST BD                  3.759e+07    1.832e+08  2.969  462.137  346.660   \n",
       "96 ST 6                      1.432e+07    5.002e+06  2.985  433.603  124.921   \n",
       "14 ST-UNION SQ LNQR456W      2.895e+07    8.153e+06  2.994  421.107  358.734   \n",
       "\n",
       "                          people  timedelta  entries per hour  exits per hour  \\\n",
       "station linename                                                                \n",
       "YORK ST F                788.178      3.994           133.417          63.987   \n",
       "MYRTLE AV JMZ            768.431      3.964           122.069          73.251   \n",
       "GRAND ST BD              808.796      3.985           116.203          87.574   \n",
       "96 ST 6                  558.524      3.964           110.139          31.867   \n",
       "14 ST-UNION SQ LNQR456W  779.841      3.997           105.359          89.815   \n",
       "\n",
       "                         people per hour  \n",
       "station linename                          \n",
       "YORK ST F                        197.403  \n",
       "MYRTLE AV JMZ                    195.319  \n",
       "GRAND ST BD                      203.777  \n",
       "96 ST 6                          142.006  \n",
       "14 ST-UNION SQ LNQR456W          195.174  "
      ]
     },
     "execution_count": 26,
     "metadata": {},
     "output_type": "execute_result"
    }
   ],
   "source": [
    "df.groupby(['station linename']).mean().sort_values('entries', ascending=False).head(5)"
   ]
  },
  {
   "cell_type": "code",
   "execution_count": 27,
   "metadata": {},
   "outputs": [
    {
     "data": {
      "text/html": [
       "<div>\n",
       "<style>\n",
       "    .dataframe thead tr:only-child th {\n",
       "        text-align: right;\n",
       "    }\n",
       "\n",
       "    .dataframe thead th {\n",
       "        text-align: left;\n",
       "    }\n",
       "\n",
       "    .dataframe tbody tr th {\n",
       "        vertical-align: top;\n",
       "    }\n",
       "</style>\n",
       "<table border=\"1\" class=\"dataframe\">\n",
       "  <thead>\n",
       "    <tr style=\"text-align: right;\">\n",
       "      <th></th>\n",
       "      <th>cumm. entries</th>\n",
       "      <th>cumm. exits</th>\n",
       "      <th>day</th>\n",
       "      <th>entries</th>\n",
       "      <th>exits</th>\n",
       "      <th>people</th>\n",
       "      <th>timedelta</th>\n",
       "      <th>entries per hour</th>\n",
       "      <th>exits per hour</th>\n",
       "      <th>people per hour</th>\n",
       "    </tr>\n",
       "    <tr>\n",
       "      <th>station linename</th>\n",
       "      <th></th>\n",
       "      <th></th>\n",
       "      <th></th>\n",
       "      <th></th>\n",
       "      <th></th>\n",
       "      <th></th>\n",
       "      <th></th>\n",
       "      <th></th>\n",
       "      <th></th>\n",
       "      <th></th>\n",
       "    </tr>\n",
       "  </thead>\n",
       "  <tbody>\n",
       "    <tr>\n",
       "      <th>GRD CNTRL-42 ST 4567S</th>\n",
       "      <td>1040462010014</td>\n",
       "      <td>701465465854</td>\n",
       "      <td>61301</td>\n",
       "      <td>6.601e+06</td>\n",
       "      <td>5.913e+06</td>\n",
       "      <td>1.251e+07</td>\n",
       "      <td>81080.0</td>\n",
       "      <td>1.689e+06</td>\n",
       "      <td>1.539e+06</td>\n",
       "      <td>3.228e+06</td>\n",
       "    </tr>\n",
       "    <tr>\n",
       "      <th>34 ST-HERALD SQ BDFMNQRW</th>\n",
       "      <td>1583255722669</td>\n",
       "      <td>1888711353155</td>\n",
       "      <td>54028</td>\n",
       "      <td>6.246e+06</td>\n",
       "      <td>5.440e+06</td>\n",
       "      <td>1.169e+07</td>\n",
       "      <td>71957.0</td>\n",
       "      <td>1.570e+06</td>\n",
       "      <td>1.375e+06</td>\n",
       "      <td>2.945e+06</td>\n",
       "    </tr>\n",
       "    <tr>\n",
       "      <th>14 ST-UNION SQ LNQR456W</th>\n",
       "      <td>366566762741</td>\n",
       "      <td>103237216592</td>\n",
       "      <td>37918</td>\n",
       "      <td>5.332e+06</td>\n",
       "      <td>4.543e+06</td>\n",
       "      <td>9.875e+06</td>\n",
       "      <td>50618.0</td>\n",
       "      <td>1.334e+06</td>\n",
       "      <td>1.137e+06</td>\n",
       "      <td>2.471e+06</td>\n",
       "    </tr>\n",
       "    <tr>\n",
       "      <th>TIMES SQ-42 ST 1237ACENQRS</th>\n",
       "      <td>1951053403581</td>\n",
       "      <td>1514336326147</td>\n",
       "      <td>50146</td>\n",
       "      <td>5.119e+06</td>\n",
       "      <td>4.636e+06</td>\n",
       "      <td>9.755e+06</td>\n",
       "      <td>66756.0</td>\n",
       "      <td>1.289e+06</td>\n",
       "      <td>1.172e+06</td>\n",
       "      <td>2.461e+06</td>\n",
       "    </tr>\n",
       "    <tr>\n",
       "      <th>42 ST-PORT AU ACE</th>\n",
       "      <td>2510134698932</td>\n",
       "      <td>2092403685843</td>\n",
       "      <td>50790</td>\n",
       "      <td>5.105e+06</td>\n",
       "      <td>3.571e+06</td>\n",
       "      <td>8.676e+06</td>\n",
       "      <td>67449.0</td>\n",
       "      <td>1.306e+06</td>\n",
       "      <td>9.039e+05</td>\n",
       "      <td>2.210e+06</td>\n",
       "    </tr>\n",
       "  </tbody>\n",
       "</table>\n",
       "</div>"
      ],
      "text/plain": [
       "                            cumm. entries    cumm. exits    day    entries  \\\n",
       "station linename                                                             \n",
       "GRD CNTRL-42 ST 4567S       1040462010014   701465465854  61301  6.601e+06   \n",
       "34 ST-HERALD SQ BDFMNQRW    1583255722669  1888711353155  54028  6.246e+06   \n",
       "14 ST-UNION SQ LNQR456W      366566762741   103237216592  37918  5.332e+06   \n",
       "TIMES SQ-42 ST 1237ACENQRS  1951053403581  1514336326147  50146  5.119e+06   \n",
       "42 ST-PORT AU ACE           2510134698932  2092403685843  50790  5.105e+06   \n",
       "\n",
       "                                exits     people  timedelta  entries per hour  \\\n",
       "station linename                                                                \n",
       "GRD CNTRL-42 ST 4567S       5.913e+06  1.251e+07    81080.0         1.689e+06   \n",
       "34 ST-HERALD SQ BDFMNQRW    5.440e+06  1.169e+07    71957.0         1.570e+06   \n",
       "14 ST-UNION SQ LNQR456W     4.543e+06  9.875e+06    50618.0         1.334e+06   \n",
       "TIMES SQ-42 ST 1237ACENQRS  4.636e+06  9.755e+06    66756.0         1.289e+06   \n",
       "42 ST-PORT AU ACE           3.571e+06  8.676e+06    67449.0         1.306e+06   \n",
       "\n",
       "                            exits per hour  people per hour  \n",
       "station linename                                             \n",
       "GRD CNTRL-42 ST 4567S            1.539e+06        3.228e+06  \n",
       "34 ST-HERALD SQ BDFMNQRW         1.375e+06        2.945e+06  \n",
       "14 ST-UNION SQ LNQR456W          1.137e+06        2.471e+06  \n",
       "TIMES SQ-42 ST 1237ACENQRS       1.172e+06        2.461e+06  \n",
       "42 ST-PORT AU ACE                9.039e+05        2.210e+06  "
      ]
     },
     "execution_count": 27,
     "metadata": {},
     "output_type": "execute_result"
    }
   ],
   "source": [
    "df.groupby(['station linename']).sum().sort_values('entries', ascending=False).head(5)"
   ]
  },
  {
   "cell_type": "markdown",
   "metadata": {},
   "source": [
    "To find the average traffic per station, we must average the station sums across the timeline."
   ]
  },
  {
   "cell_type": "code",
   "execution_count": 28,
   "metadata": {
    "collapsed": true
   },
   "outputs": [],
   "source": [
    "def calculate_averages(df, groupby_columns = ['station linename']):\n",
    "    # Find earliest and latest timestamp\n",
    "    datetime_min = df.groupby(groupby_columns).min().reset_index()\n",
    "    datetime_max = df.groupby(groupby_columns).max().reset_index()\n",
    "    \n",
    "    average = df.groupby(groupby_columns).sum().reset_index()\n",
    "    \n",
    "    average['Start Date'] = datetime_min['datetime']\n",
    "    average['End Date']   = datetime_max['datetime']\n",
    "    \n",
    "    average['Average Entries Per Hour'] = average['entries per hour']/(average['End Date'] - average['Start Date']).dt.days\n",
    "    average['Average Exits Per Hour'] = average['entries per hour']/(average['End Date'] - average['Start Date']).dt.days\n",
    "    average['Average People Per Hour'] = average['people per hour']/(average['End Date'] - average['Start Date']).dt.days\n",
    "    \n",
    "    return average"
   ]
  },
  {
   "cell_type": "code",
   "execution_count": 29,
   "metadata": {
    "collapsed": true
   },
   "outputs": [],
   "source": [
    "morning_rush_average = calculate_averages(morning_rush)\n",
    "evening_rush_average = calculate_averages(evening_rush)\n",
    "#midday_average = calculate_averages(midday)"
   ]
  },
  {
   "cell_type": "markdown",
   "metadata": {},
   "source": [
    "#### Save"
   ]
  },
  {
   "cell_type": "code",
   "execution_count": 30,
   "metadata": {
    "collapsed": true
   },
   "outputs": [],
   "source": [
    "filepath = '/Users/Joe/Documents/Metis/Projects/metis-one-Benson/pickled-dataframes/'"
   ]
  },
  {
   "cell_type": "code",
   "execution_count": 31,
   "metadata": {
    "collapsed": true
   },
   "outputs": [],
   "source": [
    "def save_file(df, filename):\n",
    "    with open(filepath + filename, 'wb') as picklefile:\n",
    "        pickle.dump(df, picklefile)"
   ]
  },
  {
   "cell_type": "code",
   "execution_count": 32,
   "metadata": {
    "collapsed": true
   },
   "outputs": [],
   "source": [
    "save_file(morning_rush_average, 'morning_df.pkl')\n",
    "save_file(evening_rush_average, 'evening_df.pkl')"
   ]
  },
  {
   "cell_type": "code",
   "execution_count": null,
   "metadata": {
    "collapsed": true
   },
   "outputs": [],
   "source": []
  }
 ],
 "metadata": {
  "kernelspec": {
   "display_name": "Python [default]",
   "language": "python",
   "name": "python3"
  },
  "language_info": {
   "codemirror_mode": {
    "name": "ipython",
    "version": 3
   },
   "file_extension": ".py",
   "mimetype": "text/x-python",
   "name": "python",
   "nbconvert_exporter": "python",
   "pygments_lexer": "ipython3",
   "version": "3.6.1"
  }
 },
 "nbformat": 4,
 "nbformat_minor": 2
}
